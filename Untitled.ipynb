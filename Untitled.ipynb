{
 "cells": [
  {
   "cell_type": "code",
   "execution_count": 1,
   "metadata": {},
   "outputs": [
    {
     "ename": "ImportError",
     "evalue": "No module named 'pyspark'",
     "traceback": [
      "\u001b[0;31m---------------------------------------------------------------------------\u001b[0m",
      "\u001b[0;31mImportError\u001b[0m                               Traceback (most recent call last)",
      "\u001b[0;32m<ipython-input-1-1763181d2136>\u001b[0m in \u001b[0;36m<module>\u001b[0;34m()\u001b[0m\n\u001b[0;32m----> 1\u001b[0;31m \u001b[0;32mfrom\u001b[0m \u001b[0mpyspark\u001b[0m\u001b[0;34m.\u001b[0m\u001b[0mml\u001b[0m\u001b[0;34m.\u001b[0m\u001b[0mlinalg\u001b[0m \u001b[0;32mimport\u001b[0m \u001b[0mVectors\u001b[0m\u001b[0;34m\u001b[0m\u001b[0m\n\u001b[0m\u001b[1;32m      2\u001b[0m \u001b[0;32mfrom\u001b[0m \u001b[0mpyspark\u001b[0m\u001b[0;34m.\u001b[0m\u001b[0mml\u001b[0m\u001b[0;34m.\u001b[0m\u001b[0mfeature\u001b[0m \u001b[0;32mimport\u001b[0m \u001b[0mStandardScaler\u001b[0m\u001b[0;34m\u001b[0m\u001b[0m\n\u001b[1;32m      3\u001b[0m \u001b[0;32mfrom\u001b[0m \u001b[0mpyspark\u001b[0m\u001b[0;34m.\u001b[0m\u001b[0mml\u001b[0m\u001b[0;34m.\u001b[0m\u001b[0mfeature\u001b[0m \u001b[0;32mimport\u001b[0m \u001b[0mVectorAssembler\u001b[0m\u001b[0;34m\u001b[0m\u001b[0m\n\u001b[1;32m      4\u001b[0m \u001b[0;32mfrom\u001b[0m \u001b[0mpyspark\u001b[0m\u001b[0;34m.\u001b[0m\u001b[0mml\u001b[0m\u001b[0;34m.\u001b[0m\u001b[0mclustering\u001b[0m \u001b[0;32mimport\u001b[0m \u001b[0mKMeans\u001b[0m\u001b[0;34m\u001b[0m\u001b[0m\n\u001b[1;32m      5\u001b[0m \u001b[0;32mfrom\u001b[0m \u001b[0mpyspark\u001b[0m\u001b[0;34m.\u001b[0m\u001b[0msql\u001b[0m \u001b[0;32mimport\u001b[0m \u001b[0mSparkSession\u001b[0m\u001b[0;34m\u001b[0m\u001b[0m\n",
      "\u001b[0;31mImportError\u001b[0m: No module named 'pyspark'"
     ],
     "output_type": "error"
    }
   ],
   "source": [
    "from pyspark.ml.linalg import Vectors\n",
    "from pyspark.ml.feature import StandardScaler\n",
    "from pyspark.ml.feature import VectorAssembler\n",
    "from pyspark.ml.clustering import KMeans\n",
    "from pyspark.sql import SparkSession\n",
    "\n",
    "\n",
    "spark = SparkSession.builder.appName(\"TEST\").getOrCreate()\n",
    "'''\n",
    "Create Dataframe From CSV \n",
    "'''\n",
    "cluster_df = spark.read.csv(\"/home/iotsys3/PycharmProjects/krishna/Cowrie_Scripts/loginattempts.csv\",\n",
    "\theader=True,\n",
    "\tinferSchema=True,\n",
    "\t)\n",
    "\n",
    "\n",
    "'''\n",
    "Removing Columns that are not needed from DataFrame\n",
    "'''\n",
    "#cluster_df = cluster_df.drop(\"id\",\"date\")\n",
    "\n",
    "\n",
    "'''\n",
    "Convert Data to Vector as Standardised Scaler \n",
    "and Kmeans can only operate on that data\n",
    "'''\n",
    "vectorAssembler = VectorAssembler(\n",
    "\t\tinputCols=[\"Login_Attempts\"],\n",
    "\t\toutputCol=\"features\"\n",
    "\t)\n",
    "\n",
    "''''''\n",
    "vcluster_df = vectorAssembler.transform(cluster_df)\n",
    "#vcluster_df.show()\n",
    "test_df = vectorAssembler.transform(cluster_df)\n",
    "\n",
    "\n",
    "kmeans = KMeans().setK(3)  # set number of clusters\n",
    "kmeans = kmeans.setSeed(1)  # set start point\n",
    "kmodel = kmeans.fit(vcluster_df)\n",
    "\n",
    "centers = kmodel.clusterCenters()\n",
    "\n",
    "pred_df = kmodel.transform(test_df)\n",
    "\n",
    "print(\"\\t**OUTPUT**\\n\\n\\n\")\n",
    "vcluster_df.show()\n",
    "print(centers)\n",
    "print(kmodel.summary.clusterSizes)\n",
    "print(\"\\n\\n\\n\")\n",
    "pred_df.show(1000)"
   ]
  },
  {
   "cell_type": "code",
   "execution_count": null,
   "metadata": {},
   "outputs": [],
   "source": []
  }
 ],
 "metadata": {
  "kernelspec": {
   "display_name": "Python 2",
   "language": "python",
   "name": "python2"
  },
  "language_info": {
   "codemirror_mode": {
    "name": "ipython",
    "version": 3
   },
   "file_extension": ".py",
   "mimetype": "text/x-python",
   "name": "python",
   "nbconvert_exporter": "python",
   "pygments_lexer": "ipython3",
   "version": "3.5.2"
  }
 },
 "nbformat": 4,
 "nbformat_minor": 2
}
